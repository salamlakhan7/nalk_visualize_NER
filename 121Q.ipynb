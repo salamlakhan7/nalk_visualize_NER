{
  "nbformat": 4,
  "nbformat_minor": 0,
  "metadata": {
    "colab": {
      "provenance": [],
      "authorship_tag": "ABX9TyNVVyp0uW/U2Gny9bgXXTwf",
      "include_colab_link": true
    },
    "kernelspec": {
      "name": "python3",
      "display_name": "Python 3"
    },
    "language_info": {
      "name": "python"
    }
  },
  "cells": [
    {
      "cell_type": "markdown",
      "metadata": {
        "id": "view-in-github",
        "colab_type": "text"
      },
      "source": [
        "<a href=\"https://colab.research.google.com/github/salamlakhan7/nalk_visualize_NER/blob/main/121Q.ipynb\" target=\"_parent\"><img src=\"https://colab.research.google.com/assets/colab-badge.svg\" alt=\"Open In Colab\"/></a>"
      ]
    },
    {
      "cell_type": "code",
      "execution_count": null,
      "metadata": {
        "id": "tvThIYB5oL9n"
      },
      "outputs": [],
      "source": [
        "import nltk\n",
        "nltk.download('punkt')\n",
        "nltk.download('averaged_perceptron_tagger')\n",
        "nltk.download('maxent_ne_chunker')\n",
        "nltk.download('words')"
      ]
    },
    {
      "cell_type": "markdown",
      "source": [
        "Name : Abdul Salam ⚛ SP22-BCS-121 ⚛ Section B"
      ],
      "metadata": {
        "id": "OJHSpgrmDsRs"
      }
    },
    {
      "cell_type": "markdown",
      "source": [
        "For NER in the NLTK library, you can use the `ne_chunk` function to perform named entity recognition. It takes in a list of tagged words and returns a tree structure with named entities. You can then visualize the results using other libraries or tools."
      ],
      "metadata": {
        "id": "ViK-ho0gzI96"
      }
    },
    {
      "cell_type": "code",
      "source": [
        "\n",
        "import nltk\n",
        "from nltk import ne_chunk\n",
        "\n",
        "# Sample sentence\n",
        "sentence = \"Barack_Obama was born in Hawaii.\"\n",
        "\n",
        "# Tokenize the sentence\n",
        "tokens = nltk.word_tokenize(sentence)\n",
        "\n",
        "# Tag the words\n",
        "tagged_words = nltk.pos_tag(tokens)\n",
        "\n",
        "# Perform named entity recognition\n",
        "entities = ne_chunk(tagged_words)\n",
        "\n",
        "# Print the named entities\n",
        "for entity in entities:\n",
        "    if hasattr(entity, 'label'):\n",
        "        print(entity.label(),\"|\", ' '.join(c[0] for c in entity))\n"
      ],
      "metadata": {
        "colab": {
          "base_uri": "https://localhost:8080/"
        },
        "id": "nk0mbJCHzVTS",
        "outputId": "3bf28125-7d67-44ba-ccdb-4c8a9573f9aa"
      },
      "execution_count": null,
      "outputs": [
        {
          "output_type": "stream",
          "name": "stdout",
          "text": [
            "PERSON | Barack_Obama\n",
            "GPE | Hawaii\n"
          ]
        }
      ]
    },
    {
      "cell_type": "code",
      "source": [
        "\n",
        "import nltk\n",
        "from nltk import ne_chunk\n",
        "from nltk.tokenize import word_tokenize\n",
        "\n",
        "# Sample sentence\n",
        "sentence = \"Barack Obama was born in Hawaii and served as the 44th President of the United States and  He completed undergraduate  at Columbia University .\"\n",
        "\n",
        "# Tokenize the sentence\n",
        "tokens = word_tokenize(sentence)\n",
        "\n",
        "# Perform Named Entity Recognition\n",
        "ner_tags = ne_chunk(nltk.pos_tag(tokens))\n",
        "\n",
        "# Print the named entities\n",
        "for entity in ner_tags:\n",
        "    if hasattr(entity, 'label'):\n",
        "        print(entity.label(),\"|\" ,' '.join(c[0] for c in entity))\n"
      ],
      "metadata": {
        "colab": {
          "base_uri": "https://localhost:8080/"
        },
        "id": "QEC6S4ey9AOy",
        "outputId": "921872d6-2b1a-4fe3-ede4-34181b1e2ea5"
      },
      "execution_count": null,
      "outputs": [
        {
          "output_type": "stream",
          "name": "stdout",
          "text": [
            "PERSON | Barack\n",
            "PERSON | Obama\n",
            "GPE | Hawaii\n",
            "GPE | United States\n",
            "ORGANIZATION | Columbia University\n"
          ]
        }
      ]
    },
    {
      "cell_type": "markdown",
      "source": [
        " The reason why NLTK only recognized \"Barack Obama\" as a person and \"Hawaii\" as a geopolitical entity (GPE) is because NLTK's ne_chunk function uses a pre-trained model that may not capture all types of entities.\n",
        "\n",
        "If you want to capture other types of entities like measurements or numerical values, you may need to use a more specialized library or custom code to extract and classify those specific types of entities. NLTK's ne_chunk is more focused on identifying common named entity types like **persons, organizations, and geopolitical entities.**\n"
      ],
      "metadata": {
        "id": "c9mmBe2N1Dog"
      }
    },
    {
      "cell_type": "markdown",
      "source": [
        "just for fun lets try  `Matplotlib.`  Matplotlib is a powerful library for data visualization in Python,  generated a plot using it.\n",
        "\n",
        "\n",
        "\n",
        "\n",
        "\n",
        "\n",
        "\n"
      ],
      "metadata": {
        "id": "BeCrx03Z93PX"
      }
    },
    {
      "cell_type": "code",
      "source": [
        "\n",
        "\n",
        "import matplotlib.pyplot as plt\n",
        "\n",
        "# Sample sentence with named entities\n",
        "sentence = \"Dr_Abdul_Salam was born in Pakistan. The height is 4.5 ft. He received his education in UK schools.\"\n",
        "\n",
        "# Named entities\n",
        "entities = [(\"Dr_Abdul_Salam\", \"PERSON\"), (\"Pakistan\", \"LOCATION\"), (\"4.5 ft\", \"MEASUREMENT\"), (\"UK\", \"NATIONALITY\")]\n",
        "\n",
        "# Create a plot\n",
        "fig, ax = plt.subplots()\n",
        "\n",
        "# Plot the named entities\n",
        "for entity, label in entities:\n",
        "    start = sentence.index(entity)\n",
        "    end = start + len(entity)\n",
        "    ax.add_patch(plt.Rectangle((start, 0), end - start, 1, color='pink'))\n",
        "    ax.text(start, 0.5, entity, fontsize=12, va='center', ha='left', color='red')\n",
        "\n",
        "# Set the x-axis limits\n",
        "ax.set_xlim(0, len(sentence))\n",
        "\n",
        "# Remove the y-axis ticks and labels\n",
        "ax.set_yticks([])\n",
        "ax.set_yticklabels([])\n",
        "\n",
        "# Set the title\n",
        "ax.set_title(\"Named Entity Recognition\")\n",
        "\n",
        "# Show the plot\n",
        "plt.show()\n"
      ],
      "metadata": {
        "colab": {
          "base_uri": "https://localhost:8080/",
          "height": 452
        },
        "id": "sp9adDos2OHG",
        "outputId": "b96d4cde-1d3e-4e55-b21b-1e622e0e644b"
      },
      "execution_count": null,
      "outputs": [
        {
          "output_type": "display_data",
          "data": {
            "text/plain": [
              "<Figure size 640x480 with 1 Axes>"
            ],
            "image/png": "[encoded data removed]"
          },
          "metadata": {}
        }
      ]
    }
  ]
}